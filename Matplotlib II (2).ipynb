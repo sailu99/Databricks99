{
 "cells": [
  {
   "cell_type": "markdown",
   "id": "7e188cfb",
   "metadata": {},
   "source": [
    "# Visualization With Matplotlib: Simple Scatter Plots, Histograms\n",
    "\n",
    "*Disclaimer: The contents of this notebook are developped according to Python Data Science Handbook, by Jake VanderPlas and Python for Data Analysis, by Wes McKinney*\n",
    "\n",
    "### Simple Scatter Plots\n",
    "Another commonly used plot type is the simple scatter plot, a close cousin of the line plot. Instead of points being joined by line segments, here the points are represented individually with a dot, circle, or other shape"
   ]
  },
  {
   "cell_type": "code",
   "execution_count": null,
   "id": "c2502987",
   "metadata": {},
   "outputs": [],
   "source": [
    "%matplotlib inline\n",
    "import matplotlib.pyplot as plt\n",
    "plt.style.use('seaborn-whitegrid')\n",
    "import numpy as np\n",
    "import pandas as pd"
   ]
  },
  {
   "cell_type": "markdown",
   "id": "cd8b7988",
   "metadata": {},
   "source": [
    "### Scatter Plots with `plt.plot`\n",
    "In the previous section we looked at `plt.plot`/`ax.plot` to produce line plots. It turns out that this same function can produce scatter plots as well"
   ]
  },
  {
   "cell_type": "code",
   "execution_count": null,
   "id": "4fc74543",
   "metadata": {},
   "outputs": [],
   "source": [
    "x = np.linspace(0, 10, 30)\n",
    "y = np.sin(x)\n",
    "\n",
    "plt.plot(x, y, 'o', color='black')"
   ]
  },
  {
   "cell_type": "markdown",
   "id": "e40b1fa0",
   "metadata": {},
   "source": [
    "The third argument in the function call is a character that represents the type of symbol used for the plotting. Just as you can specify options such as '-', '--' to control the line style, the marker style has its own set of short string codes. The full list of available symbols can be seen in the documentation of `plt.plot`, or in Matplotlib's online documentation. Most of the possibilities are fairly intuitive, and we'll show a number of the more common ones here"
   ]
  },
  {
   "cell_type": "code",
   "execution_count": null,
   "id": "c4639d6f",
   "metadata": {},
   "outputs": [],
   "source": [
    "rng = np.random.RandomState(0)\n",
    "for marker in ['o', '.', ',', 'x', '+', 'v', '^', '<', '>', 's', 'd']:\n",
    "    plt.plot(rng.rand(5), rng.rand(5), marker,\n",
    "             label = \"marker='{0}'\".format(marker))\n",
    "plt.legend(numpoints = 1)\n",
    "plt.xlim(0, 1.8)"
   ]
  },
  {
   "cell_type": "markdown",
   "id": "85447983",
   "metadata": {},
   "source": [
    "For even more possibilities, these character codes can be used together with line and color codes to plot points along with a line connecting them"
   ]
  },
  {
   "cell_type": "code",
   "execution_count": null,
   "id": "4565ec00",
   "metadata": {},
   "outputs": [],
   "source": [
    "plt.plot(x, y, '-ok') # line (-), circle marker (o), black (k)"
   ]
  },
  {
   "cell_type": "markdown",
   "id": "ac728492",
   "metadata": {},
   "source": [
    "Additional keyword arguments to `plt.plot` specify a wide range of properties of the lines and markers"
   ]
  },
  {
   "cell_type": "code",
   "execution_count": null,
   "id": "2a64b336",
   "metadata": {},
   "outputs": [],
   "source": [
    "plt.plot(x, y, '-p', color = 'gray',\n",
    "         markersize = 15, linewidth = 3,\n",
    "         markerfacecolor = 'red',\n",
    "         markeredgecolor = 'green',\n",
    "         markeredgewidth = 2)\n",
    "plt.ylim(-1.2, 1.2)"
   ]
  },
  {
   "cell_type": "markdown",
   "id": "9bb93616",
   "metadata": {},
   "source": [
    "### Scatter Plots with `plt.scatter`\n",
    "A second, more powerful method of creating scatter plots is the `plt.scatter` function, which can be used very similarly to the `plt.plot` function"
   ]
  },
  {
   "cell_type": "code",
   "execution_count": null,
   "id": "e1247c1b",
   "metadata": {},
   "outputs": [],
   "source": [
    "plt.scatter(x, y, marker = 'o')"
   ]
  },
  {
   "cell_type": "markdown",
   "id": "bc96c446",
   "metadata": {},
   "source": [
    "The primary difference of `plt.scatter` from `plt.plot` is that it can be used to create scatter plots where the properties of each individual point (size, face color, edge color, etc.) can be individually controlled or mapped to data"
   ]
  },
  {
   "cell_type": "code",
   "execution_count": null,
   "id": "fd7c1efa",
   "metadata": {},
   "outputs": [],
   "source": [
    "rng = np.random.RandomState(0)\n",
    "x = rng.randn(100)\n",
    "y = rng.randn(100)\n",
    "colors = rng.rand(100)\n",
    "sizes = 1000 * rng.rand(100)\n",
    "\n",
    "plt.scatter(x, y, c = colors, s = sizes, alpha = 0.3,\n",
    "            cmap='viridis')\n",
    "plt.colorbar()  # show color scale"
   ]
  },
  {
   "cell_type": "markdown",
   "id": "42dd2b13",
   "metadata": {},
   "source": [
    "Here we use the `alpha` keyword to adjust the transparency level. Also notice that the color argument is automatically mapped to a color scale (shown here by the `colorbar()` command), and that the size argument is given in pixels. In this way, the color and size of points can be used to convey information in the visualization, in order to visualize multidimensional data"
   ]
  },
  {
   "cell_type": "markdown",
   "id": "acb67ab5",
   "metadata": {},
   "source": [
    "### Histograms and Binnings\n",
    "A simple histogram can be a great first step in understanding a dataset."
   ]
  },
  {
   "cell_type": "code",
   "execution_count": null,
   "id": "7e55d45b",
   "metadata": {},
   "outputs": [],
   "source": [
    "data = np.random.randn(1000)\n",
    "plt.hist(data)"
   ]
  },
  {
   "cell_type": "markdown",
   "id": "d7ae2508",
   "metadata": {},
   "source": [
    "The `hist()` function has many options to tune both the calculation and the display; here's an example of a more customized histogram"
   ]
  },
  {
   "cell_type": "code",
   "execution_count": null,
   "id": "f113b748",
   "metadata": {
    "scrolled": true
   },
   "outputs": [],
   "source": [
    "plt.hist(data, bins = 30, density = True, alpha = 0.5,\n",
    "         histtype = 'stepfilled', color = 'steelblue',\n",
    "         edgecolor = 'none')"
   ]
  },
  {
   "cell_type": "markdown",
   "id": "daa432c5",
   "metadata": {},
   "source": [
    "The `plt.hist` docstring has more information on other customization options available. The combination of `histtype = 'stepfilled'` along with some transparency `alpha` is very useful when comparing histograms of several distributions"
   ]
  },
  {
   "cell_type": "code",
   "execution_count": null,
   "id": "beffddcc",
   "metadata": {
    "scrolled": true
   },
   "outputs": [],
   "source": [
    "x1 = np.random.normal(0, 0.8, 1000)\n",
    "x2 = np.random.normal(-2, 1, 1000)\n",
    "x3 = np.random.normal(3, 2, 1000)\n",
    "\n",
    "kwargs = dict(histtype = 'stepfilled', alpha = 0.3, density = True, bins = 40)\n",
    "\n",
    "plt.hist(x1, **kwargs)\n",
    "plt.hist(x2, **kwargs)\n",
    "plt.hist(x3, **kwargs)"
   ]
  },
  {
   "cell_type": "markdown",
   "id": "e7f6b3ea",
   "metadata": {},
   "source": [
    "If you would like to simply compute the histogram (that is, count the number of points in a given bin) and not display it, the `np.histogram()` function is available"
   ]
  },
  {
   "cell_type": "code",
   "execution_count": null,
   "id": "23bc2587",
   "metadata": {},
   "outputs": [],
   "source": [
    "counts, bin_edges = np.histogram(data, bins = 5)\n",
    "counts"
   ]
  },
  {
   "cell_type": "code",
   "execution_count": null,
   "id": "749ac470",
   "metadata": {},
   "outputs": [],
   "source": [
    "bin_edges"
   ]
  },
  {
   "cell_type": "markdown",
   "id": "0911f4e5",
   "metadata": {},
   "source": [
    "### Two-Dimensional Histograms and Binnings\n",
    "Just as we create histograms in one dimension by dividing the number-line into bins, we can also create histograms in two-dimensions by dividing points among two-dimensional bins. We'll take a brief look at several ways to do this here. We'll start by defining some data—an x and y array drawn from a multivariate Gaussian distribution"
   ]
  },
  {
   "cell_type": "code",
   "execution_count": null,
   "id": "89a3da54",
   "metadata": {},
   "outputs": [],
   "source": [
    "mean = [0, 0]\n",
    "cov = [[1, 1], [1, 2]]\n",
    "x, y = np.random.multivariate_normal(mean, cov, 100000).T"
   ]
  },
  {
   "cell_type": "markdown",
   "id": "bd138fdc",
   "metadata": {},
   "source": [
    "### Two-dimensional Histogram: `plt.hist2d`\n",
    "One straightforward way to plot a two-dimensional histogram is to use Matplotlib's `plt.hist2d` function"
   ]
  },
  {
   "cell_type": "code",
   "execution_count": null,
   "id": "6c450cb1",
   "metadata": {},
   "outputs": [],
   "source": [
    "plt.hist2d(x, y, bins=30, cmap='Blues')\n",
    "cb = plt.colorbar()\n",
    "cb.set_label('counts in bin')"
   ]
  },
  {
   "cell_type": "markdown",
   "id": "decb8ff8",
   "metadata": {},
   "source": [
    "Just as `plt.hist` has a counterpart in `np.histogram`, `plt.hist2d` has a counterpart in `np.histogram2d`, which can be used as follows"
   ]
  },
  {
   "cell_type": "code",
   "execution_count": null,
   "id": "ac8fd046",
   "metadata": {},
   "outputs": [],
   "source": [
    "counts, xedges, yedges = np.histogram2d(x, y, bins = 30)"
   ]
  },
  {
   "cell_type": "code",
   "execution_count": null,
   "id": "4e685f15",
   "metadata": {
    "scrolled": true
   },
   "outputs": [],
   "source": [
    "counts"
   ]
  },
  {
   "cell_type": "markdown",
   "id": "a771229c",
   "metadata": {},
   "source": [
    "### Hexagonal Binnings\n",
    "The two-dimensional histogram creates a tesselation of squares across the axes. Another natural shape for such a tesselation is the regular hexagon. For this purpose, Matplotlib provides the `plt.hexbin` routine, which will represents a two-dimensional dataset binned within a grid of hexagons"
   ]
  },
  {
   "cell_type": "code",
   "execution_count": null,
   "id": "443fe44a",
   "metadata": {},
   "outputs": [],
   "source": [
    "plt.hexbin(x, y, gridsize = 30, cmap = 'Blues')\n",
    "cb = plt.colorbar(label = 'count in bin')"
   ]
  },
  {
   "cell_type": "markdown",
   "id": "b1e9bb2d",
   "metadata": {},
   "source": [
    "### Customizing Plot Legends\n",
    "Plot legends give meaning to a visualization, assigning meaning to the various plot elements. The simplest legend can be created with the `plt.legend()` command, which automatically creates a legend for any labeled plot elements"
   ]
  },
  {
   "cell_type": "code",
   "execution_count": null,
   "id": "a341cb93",
   "metadata": {},
   "outputs": [],
   "source": [
    "x = np.linspace(0, 10, 1000)\n",
    "fig, ax = plt.subplots()\n",
    "ax.plot(x, np.sin(x), '-b', label = 'Sine')\n",
    "ax.plot(x, np.cos(x), '--r', label = 'Cosine')\n",
    "ax.axis('equal')\n",
    "leg = ax.legend();"
   ]
  },
  {
   "cell_type": "markdown",
   "id": "d9a83cfe",
   "metadata": {},
   "source": [
    "But there are many ways we might want to customize such a legend. For example, we can specify the location and turn off the frame"
   ]
  },
  {
   "cell_type": "code",
   "execution_count": null,
   "id": "a23d8238",
   "metadata": {},
   "outputs": [],
   "source": [
    "ax.legend(loc='upper left', frameon=False)\n",
    "fig"
   ]
  },
  {
   "cell_type": "markdown",
   "id": "70425701",
   "metadata": {},
   "source": [
    "We can use the `ncol` command to specify the number of columns in the legend"
   ]
  },
  {
   "cell_type": "code",
   "execution_count": null,
   "id": "a78b4ccd",
   "metadata": {},
   "outputs": [],
   "source": [
    "ax.legend(frameon = False, loc = 'lower center', ncol=2)\n",
    "fig"
   ]
  },
  {
   "cell_type": "markdown",
   "id": "0cb45007",
   "metadata": {},
   "source": [
    "We can use a rounded box (fancybox) or add a shadow, change the transparency (alpha value) of the frame, or change the padding around the text"
   ]
  },
  {
   "cell_type": "code",
   "execution_count": null,
   "id": "b95cbe52",
   "metadata": {},
   "outputs": [],
   "source": [
    "ax.legend(fancybox = True, framealpha = 1, shadow = True, borderpad = 1)\n",
    "fig"
   ]
  },
  {
   "cell_type": "markdown",
   "id": "723d3847",
   "metadata": {},
   "source": [
    "### Legend for Size of Points\n",
    "Sometimes the legend defaults are not sufficient for the given visualization. For example, perhaps you're be using the size of points to mark certain features of the data, and want to create a legend reflecting this. Here is an example where we'll use the size of points to indicate populations of California cities. We'd like a legend that specifies the scale of the sizes of the points, and we'll accomplish this by plotting some labeled data with no entries"
   ]
  },
  {
   "cell_type": "code",
   "execution_count": null,
   "id": "2cf3cb45",
   "metadata": {},
   "outputs": [],
   "source": [
    "cities = pd.read_csv('california_cities.csv')\n",
    "\n",
    "# Extract the data we're interested in\n",
    "lat, lon = cities['latd'], cities['longd']\n",
    "population, area = cities['population_total'], cities['area_total_km2']\n",
    "\n",
    "# Scatter the points, using size and color but no label\n",
    "plt.scatter(lon, lat, label = None,\n",
    "            c = np.log10(population), cmap = 'viridis',\n",
    "            s = area, linewidth = 0, alpha = 0.5)\n",
    "plt.axis('equal')\n",
    "plt.xlabel('longitude')\n",
    "plt.ylabel('latitude')\n",
    "plt.colorbar(label = 'log$_{10}$(population)')\n",
    "plt.clim(3, 7)\n",
    "\n",
    "# Here we create a legend:\n",
    "# we'll plot empty lists with the desired size and label\n",
    "for area in [100, 300, 500]:\n",
    "    plt.scatter([], [], c = 'k', alpha = 0.3, s = area,\n",
    "                label = str(area) + ' km$^2$')\n",
    "plt.legend(scatterpoints = 1, frameon = False, labelspacing = 1, title = 'City Area')\n",
    "\n",
    "plt.title('California Cities: Area and Population');"
   ]
  },
  {
   "cell_type": "markdown",
   "id": "fc7a3200",
   "metadata": {},
   "source": [
    "The legend will always reference some object that is on the plot, so if we'd like to display a particular shape we need to plot it. In this case, the objects we want (gray circles) are not on the plot, so we fake them by plotting empty lists. Notice too that the legend only lists plot elements that have a label specified.\n",
    "\n",
    "By plotting empty lists, we create labeled plot objects which are picked up by the legend, and now our legend tells us some useful information. This strategy can be useful for creating more sophisticated visualizations."
   ]
  },
  {
   "cell_type": "markdown",
   "id": "664a0f10",
   "metadata": {},
   "source": [
    "### Multiple Subplots\n",
    "Sometimes it is helpful to compare different views of data side by side. To this end, Matplotlib has the concept of subplots: groups of smaller axes that can exist together within a single figure. These subplots might be insets, grids of plots, or other more complicated layouts. In this section we'll explore four routines for creating subplots in Matplotlib"
   ]
  },
  {
   "cell_type": "markdown",
   "id": "912adba5",
   "metadata": {},
   "source": [
    "### Subplots by Hand: `plt.axes`\n",
    "The most basic method of creating an axes is to use the `plt.axes` function. As we've seen previously, by default this creates a standard axes object that fills the entire figure. `plt.axes` also takes an optional argument that is a list of four numbers in the figure coordinate system. These numbers represent `[left, bottom, width, height]` in the figure coordinate system, which ranges from 0 at the bottom left of the figure to 1 at the top right of the figure.\n",
    "\n",
    "For example, we might create an inset axes at the top-right corner of another axes by setting the x and y position to 0.65 (that is, starting at 65% of the width and 65% of the height of the figure) and the x and y extents to 0.2 (that is, the size of the axes is 20% of the width and 20% of the height of the figure)"
   ]
  },
  {
   "cell_type": "code",
   "execution_count": null,
   "id": "f93d4a1c",
   "metadata": {},
   "outputs": [],
   "source": [
    "plt.style.use('seaborn-white')\n",
    "ax1 = plt.axes()  # standard axes\n",
    "ax2 = plt.axes([0.65, 0.65, 0.2, 0.2])"
   ]
  },
  {
   "cell_type": "markdown",
   "id": "98297ca3",
   "metadata": {},
   "source": [
    "The equivalent of this command within the object-oriented interface is `fig.add_axes()`. Let's use this to create two vertically stacked axes"
   ]
  },
  {
   "cell_type": "code",
   "execution_count": null,
   "id": "4f09cb2a",
   "metadata": {},
   "outputs": [],
   "source": [
    "fig = plt.figure()\n",
    "ax1 = fig.add_axes([0.1, 0.5, 0.8, 0.4],\n",
    "                   xticklabels = [], ylim = (-1.2, 1.2))\n",
    "ax2 = fig.add_axes([0.1, 0.1, 0.8, 0.4],\n",
    "                   ylim = (-1.2, 1.2))\n",
    "\n",
    "x = np.linspace(0, 10)\n",
    "ax1.plot(np.sin(x))\n",
    "ax2.plot(np.cos(x))"
   ]
  },
  {
   "cell_type": "markdown",
   "id": "95f1502e",
   "metadata": {},
   "source": [
    "We now have two axes (the top with no tick labels) that are just touching: the bottom of the upper panel (at position 0.5) matches the top of the lower panel (at position 0.1 + 0.4).\n",
    "    \n",
    "### Simple Grids of Subplots: `plt.subplot`\n",
    "Aligned columns or rows of subplots are a common-enough need that Matplotlib has several convenience routines that make them easy to create. The lowest level of these is `plt.subplot()`, which creates a single subplot within a grid. As you can see, this command takes three integer arguments—the number of rows, the number of columns, and the index of the plot to be created in this scheme, which runs from the upper left to the bottom right"
   ]
  },
  {
   "cell_type": "code",
   "execution_count": null,
   "id": "b4e25d6c",
   "metadata": {},
   "outputs": [],
   "source": [
    "for i in range(1, 7):\n",
    "    plt.subplot(2, 3, i)\n",
    "    plt.text(0.5, 0.5, str((2, 3, i)),\n",
    "             fontsize = 18, ha = 'center')"
   ]
  },
  {
   "cell_type": "markdown",
   "id": "2ef2fb7a",
   "metadata": {},
   "source": [
    "The command `plt.subplots_adjust` can be used to adjust the spacing between these plots. The following code uses the equivalent object-oriented command, `fig.add_subplot()`"
   ]
  },
  {
   "cell_type": "code",
   "execution_count": null,
   "id": "dd7a27c8",
   "metadata": {
    "scrolled": true
   },
   "outputs": [],
   "source": [
    "fig = plt.figure()\n",
    "fig.subplots_adjust(hspace = 0.4, wspace = 0.4)\n",
    "for i in range(1, 7):\n",
    "    ax = fig.add_subplot(2, 3, i)\n",
    "    ax.text(0.5, 0.5, str((2, 3, i)),\n",
    "           fontsize = 18, ha = 'center')"
   ]
  },
  {
   "cell_type": "markdown",
   "id": "eaf1a2fd",
   "metadata": {},
   "source": [
    "We've used the `hspace` and `wspace` arguments of `plt.subplots_adjust`, which specify the spacing along the height and width of the figure, in units of the subplot size (in this case, the space is 40% of the subplot width and height).\n",
    "\n",
    "### The Whole Grid in One Go: `plt.subplots`\n",
    "The approach just described can become quite tedious when creating a large grid of subplots, especially if you'd like to hide the x- and y-axis labels on the inner plots. For this purpose, `plt.subplots()` is the easier tool to use (note the s at the end of subplots). Rather than creating a single subplot, this function creates a full grid of subplots in a single line, returning them in a NumPy array. The arguments are the number of rows and number of columns, along with optional keywords `sharex` and `sharey`, which allow you to specify the relationships between different axes.\n",
    "Here we'll create a $2 \\times 3$ grid of subplots, where all axes in the same row share their y-axis scale, and all axes in the same column share their x-axis scale\n"
   ]
  },
  {
   "cell_type": "code",
   "execution_count": null,
   "id": "9a6364b7",
   "metadata": {},
   "outputs": [],
   "source": [
    "fig, ax = plt.subplots(2, 3, sharex = 'col', sharey = 'row')"
   ]
  },
  {
   "cell_type": "markdown",
   "id": "f28a94c0",
   "metadata": {},
   "source": [
    "Note that by specifying `sharex` and `sharey`, we've automatically removed inner labels on the grid to make the plot cleaner. The resulting grid of axes instances is returned within a NumPy array, allowing for convenient specification of the desired axes using standard array indexing notation"
   ]
  },
  {
   "cell_type": "code",
   "execution_count": null,
   "id": "f6cc2f9c",
   "metadata": {},
   "outputs": [],
   "source": [
    "# axes are in a two-dimensional array, indexed by [row, col]\n",
    "for i in range(2):\n",
    "    for j in range(3):\n",
    "        ax[i, j].text(0.5, 0.5, str((i, j)),\n",
    "                      fontsize = 18, ha = 'center')\n",
    "fig"
   ]
  },
  {
   "cell_type": "markdown",
   "id": "10b57ddf",
   "metadata": {},
   "source": [
    "In comparison to `plt.subplot()`, `plt.subplots()` is more consistent with Python's conventional 0-based indexing.\n",
    "\n",
    "### More Complicated Arrangements: `plt.GridSpec`\n",
    "To go beyond a regular grid to subplots that span multiple rows and columns, `plt.GridSpec()` is the best tool. The `plt.GridSpec()` object does not create a plot by itself; it is simply a convenient interface that is recognized by the `plt.subplot()` command. For example, a gridspec for a grid of two rows and three columns with some specified width and height space looks like this"
   ]
  },
  {
   "cell_type": "code",
   "execution_count": null,
   "id": "84c1b2a6",
   "metadata": {},
   "outputs": [],
   "source": [
    "grid = plt.GridSpec(2, 3, wspace = 0.4, hspace = 0.3)"
   ]
  },
  {
   "cell_type": "markdown",
   "id": "51a0a519",
   "metadata": {},
   "source": [
    "From this we can specify subplot locations and extents using the familiary Python slicing syntax"
   ]
  },
  {
   "cell_type": "code",
   "execution_count": null,
   "id": "35a4b6ae",
   "metadata": {},
   "outputs": [],
   "source": [
    "plt.subplot(grid[0, 0])\n",
    "plt.subplot(grid[0, 1:])\n",
    "plt.subplot(grid[1, :2])\n",
    "plt.subplot(grid[1, 2])"
   ]
  },
  {
   "cell_type": "markdown",
   "id": "9350e7e0",
   "metadata": {},
   "source": [
    "This type of flexible grid alignment has a wide range of uses. You can use it to create multi-axes histogram plots like the ones shown below"
   ]
  },
  {
   "cell_type": "code",
   "execution_count": null,
   "id": "07f5f305",
   "metadata": {},
   "outputs": [],
   "source": [
    "# Create some normally distributed data\n",
    "mean = [0, 0]\n",
    "cov = [[1, 1], [1, 2]]\n",
    "x, y = np.random.multivariate_normal(mean, cov, 3000).T\n",
    "\n",
    "# Set up the axes with gridspec\n",
    "fig = plt.figure(figsize=(6, 6))\n",
    "grid = plt.GridSpec(4, 4, hspace=0.2, wspace=0.2)\n",
    "main_ax = fig.add_subplot(grid[:-1, 1:])\n",
    "y_hist = fig.add_subplot(grid[:-1, 0], xticklabels=[], sharey=main_ax)\n",
    "x_hist = fig.add_subplot(grid[-1, 1:], yticklabels=[], sharex=main_ax)\n",
    "\n",
    "# scatter points on the main axes\n",
    "main_ax.plot(x, y, 'ok', markersize=3, alpha=0.2)\n",
    "\n",
    "# histogram on the attached axes\n",
    "x_hist.hist(x, 40, histtype='stepfilled',\n",
    "            orientation='vertical', color='gray')\n",
    "x_hist.invert_yaxis()\n",
    "\n",
    "y_hist.hist(y, 40, histtype='stepfilled',\n",
    "            orientation='horizontal', color='gray')\n",
    "y_hist.invert_xaxis()"
   ]
  },
  {
   "cell_type": "markdown",
   "id": "903e97ad",
   "metadata": {},
   "source": [
    "### Text and Annotation\n",
    "Creating a good visualization involves guiding the reader so that the figure tells a story. In some cases, this story can be told in an entirely visual manner, without the need for added text, but in others, small textual cues and labels are necessary. Perhaps the most basic types of annotations you will use are axes labels and titles, but the options go beyond this. Let's take a look at some data and how we might visualize and annotate it to help convey interesting information"
   ]
  },
  {
   "cell_type": "code",
   "execution_count": null,
   "id": "b65a5f62",
   "metadata": {},
   "outputs": [],
   "source": [
    "import pandas as pd\n",
    "import matplotlib as mpl\n",
    "plt.style.use('seaborn-whitegrid')\n",
    "births = pd.read_csv('https://raw.githubusercontent.com/jakevdp/data-CDCbirths/master/births.csv')\n",
    "\n",
    "quartiles = np.percentile(births['births'], [25, 50, 75])\n",
    "mu, sig = quartiles[1], 0.74 * (quartiles[2] - quartiles[0])\n",
    "births = births.query('(births > @mu - 5 * @sig) & (births < @mu + 5 * @sig)')\n",
    "\n",
    "births['day'] = births['day'].astype(int)\n",
    "\n",
    "births.index = pd.to_datetime(10000 * births.year +\n",
    "                              100 * births.month +\n",
    "                              births.day, format='%Y%m%d')\n",
    "births_by_date = births.pivot_table('births',\n",
    "                                    [births.index.month, births.index.day])\n",
    "births_by_date.index = [pd.Timestamp(2012, month, day)\n",
    "                        for (month, day) in births_by_date.index]"
   ]
  },
  {
   "cell_type": "code",
   "execution_count": null,
   "id": "37c00d9a",
   "metadata": {},
   "outputs": [],
   "source": [
    "fig, ax = plt.subplots(figsize = (12, 4))\n",
    "births_by_date.plot(ax = ax)"
   ]
  },
  {
   "cell_type": "markdown",
   "id": "c21df560",
   "metadata": {},
   "source": [
    "When we're communicating data like this, it is often useful to annotate certain features of the plot to draw the reader's attention. This can be done manually with the `plt.text`/`ax.text` command, which will place text at a particular x/y value"
   ]
  },
  {
   "cell_type": "code",
   "execution_count": null,
   "id": "57de824f",
   "metadata": {},
   "outputs": [],
   "source": [
    "fig, ax = plt.subplots(figsize = (12, 4))\n",
    "births_by_date.plot(ax = ax)\n",
    "\n",
    "# Add labels to the plot\n",
    "style = dict(size = 10, color = 'gray')\n",
    "\n",
    "ax.text('2012-1-1', 3950, \"New Year's Day\", **style)\n",
    "ax.text('2012-7-4', 4250, \"Independence Day\", ha = 'center', **style)\n",
    "ax.text('2012-9-4', 4850, \"Labor Day\", ha = 'center', **style)\n",
    "ax.text('2012-10-31', 4600, \"Halloween\", ha = 'right', **style)\n",
    "ax.text('2012-11-25', 4450, \"Thanksgiving\", ha = 'center', **style)\n",
    "ax.text('2012-12-25', 3850, \"Christmas \", ha = 'right', **style)\n",
    "\n",
    "# Label the axes\n",
    "ax.set(title = 'USA births by day of year (1969-1988)',\n",
    "       ylabel = 'average daily births')\n",
    "\n",
    "# Format the x axis with centered month labels\n",
    "ax.xaxis.set_major_locator(mpl.dates.MonthLocator())\n",
    "ax.xaxis.set_minor_locator(mpl.dates.MonthLocator(bymonthday = 15))\n",
    "ax.xaxis.set_major_formatter(plt.NullFormatter())\n",
    "ax.xaxis.set_minor_formatter(mpl.dates.DateFormatter('%h'))"
   ]
  },
  {
   "cell_type": "markdown",
   "id": "99782512",
   "metadata": {},
   "source": [
    "The `ax.text` method takes an x position, a y position, a string, and then optional keywords specifying the color, size, style, alignment, and other properties of the text. Here we used `ha = 'right'` and `ha = 'center'`, where ha is short for horizonal alignment. See the docstring of `plt.text()` and of `mpl.text.Text()` for more information on available options"
   ]
  },
  {
   "cell_type": "markdown",
   "id": "57fab5aa",
   "metadata": {},
   "source": [
    "### Arrows and Annotation\n",
    "Along with tick marks and text, another useful annotation mark is the simple arrow. The `plt.annotate()` function creates some text and an arrow, and the arrows can be very flexibly specified. Here we'll use annotate with several of its options"
   ]
  },
  {
   "cell_type": "code",
   "execution_count": null,
   "id": "84ddf6ed",
   "metadata": {},
   "outputs": [],
   "source": [
    "%matplotlib inline\n",
    "\n",
    "fig, ax = plt.subplots()\n",
    "\n",
    "x = np.linspace(0, 20, 1000)\n",
    "ax.plot(x, np.cos(x))\n",
    "ax.axis('equal')\n",
    "\n",
    "ax.annotate('local maximum', xy = (6.28, 1), xytext = (10, 4),\n",
    "            arrowprops = dict(facecolor = 'black', shrink = 0.05))\n",
    "\n",
    "ax.annotate('local minimum', xy = (5 * np.pi, -1), xytext = (2, -6),\n",
    "            arrowprops=dict(arrowstyle = \"->\",\n",
    "                            connectionstyle = \"angle3,angleA=0,angleB=-90\"))"
   ]
  },
  {
   "cell_type": "markdown",
   "id": "c28a505f",
   "metadata": {},
   "source": [
    "The arrow style is controlled through the `arrowprops` dictionary, which has numerous options available. These options are fairly well-documented in Matplotlib's online documentation, so rather than repeating them here it is probably more useful to quickly show some of the possibilities. Let's demonstrate several of the possible options using the birthrate plot from before"
   ]
  },
  {
   "cell_type": "code",
   "execution_count": null,
   "id": "3e7416ca",
   "metadata": {},
   "outputs": [],
   "source": [
    "fig, ax = plt.subplots(figsize=(12, 4))\n",
    "births_by_date.plot(ax=ax)\n",
    "\n",
    "# Add labels to the plot\n",
    "ax.annotate(\"New Year's Day\", xy=('2012-1-1', 4100),  xycoords='data',\n",
    "            xytext=(50, -30), textcoords='offset points',\n",
    "            arrowprops=dict(arrowstyle=\"->\",\n",
    "                            connectionstyle=\"arc3,rad=-0.2\"))\n",
    "\n",
    "ax.annotate(\"Independence Day\", xy=('2012-7-4', 4250),  xycoords='data',\n",
    "            bbox=dict(boxstyle=\"round\", fc=\"none\", ec=\"gray\"),\n",
    "            xytext=(10, -40), textcoords='offset points', ha='center',\n",
    "            arrowprops=dict(arrowstyle=\"->\"))\n",
    "\n",
    "ax.annotate('Labor Day', xy=('2012-9-4', 4850), xycoords='data', ha='center',\n",
    "            xytext=(0, -20), textcoords='offset points')\n",
    "ax.annotate('', xy=('2012-9-1', 4850), xytext=('2012-9-7', 4850),\n",
    "            xycoords='data', textcoords='data',\n",
    "            arrowprops={'arrowstyle': '|-|,widthA=0.2,widthB=0.2', })\n",
    "\n",
    "ax.annotate('Halloween', xy=('2012-10-31', 4600),  xycoords='data',\n",
    "            xytext=(-80, -40), textcoords='offset points',\n",
    "            arrowprops=dict(arrowstyle=\"fancy\",\n",
    "                            fc=\"0.6\", ec=\"none\",\n",
    "                            connectionstyle=\"angle3,angleA=0,angleB=-90\"))\n",
    "\n",
    "ax.annotate('Thanksgiving', xy=('2012-11-25', 4500),  xycoords='data',\n",
    "            xytext=(-120, -60), textcoords='offset points',\n",
    "            bbox=dict(boxstyle=\"round4,pad=.5\", fc=\"0.9\"),\n",
    "            arrowprops=dict(arrowstyle=\"->\",\n",
    "                            connectionstyle=\"angle,angleA=0,angleB=80,rad=20\"))\n",
    "\n",
    "\n",
    "ax.annotate('Christmas', xy=('2012-12-25', 3850),  xycoords='data',\n",
    "             xytext=(-30, 0), textcoords='offset points',\n",
    "             size=13, ha='right', va=\"center\",\n",
    "             bbox=dict(boxstyle=\"round\", alpha=0.1),\n",
    "             arrowprops=dict(arrowstyle=\"wedge,tail_width=0.5\", alpha=0.1));\n",
    "\n",
    "# Label the axes\n",
    "ax.set(title='USA births by day of year (1969-1988)',\n",
    "       ylabel='average daily births')\n",
    "\n",
    "# Format the x axis with centered month labels\n",
    "ax.xaxis.set_major_locator(mpl.dates.MonthLocator())\n",
    "ax.xaxis.set_minor_locator(mpl.dates.MonthLocator(bymonthday=15))\n",
    "ax.xaxis.set_major_formatter(plt.NullFormatter())\n",
    "ax.xaxis.set_minor_formatter(mpl.dates.DateFormatter('%h'));\n",
    "\n",
    "ax.set_ylim(3600, 5400)"
   ]
  }
 ],
 "metadata": {
  "kernelspec": {
   "display_name": "Python 3",
   "language": "python",
   "name": "python3"
  },
  "language_info": {
   "codemirror_mode": {
    "name": "ipython",
    "version": 3
   },
   "file_extension": ".py",
   "mimetype": "text/x-python",
   "name": "python",
   "nbconvert_exporter": "python",
   "pygments_lexer": "ipython3",
   "version": "3.8.8"
  }
 },
 "nbformat": 4,
 "nbformat_minor": 5
}
