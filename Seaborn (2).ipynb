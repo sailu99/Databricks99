{
 "cells": [
  {
   "cell_type": "markdown",
   "id": "9b15e319",
   "metadata": {},
   "source": [
    "# Visualization with Seaborn\n",
    "\n",
    "*Disclaimer: The contents of this notebook are developped according to Python Data Science Handbook, by Jake VanderPlas and Python for Data Analysis, by Wes McKinney*\n",
    "    \n",
    "\n",
    "Seaborn provides an API on top of Matplotlib that offers sane choices for plot style and color defaults, defines simple high-level functions for common statistical plot types, and integrates with the functionality provided by Pandas `DataFrame`\n",
    "\n",
    "Seaborn has many of its own high-level plotting routines, but it can also overwrite Matplotlib's default parameters and in turn get even simple Matplotlib scripts to produce vastly superior output. We can set the style by calling Seaborn's `set()` method. By convention, Seaborn is imported as `sns`"
   ]
  },
  {
   "cell_type": "code",
   "execution_count": null,
   "id": "b2a5b9fe",
   "metadata": {},
   "outputs": [],
   "source": [
    "import seaborn as sns\n",
    "sns.set()\n",
    "#sns.set_style()"
   ]
  },
  {
   "cell_type": "code",
   "execution_count": null,
   "id": "3ad3abcb",
   "metadata": {},
   "outputs": [],
   "source": [
    "import matplotlib.pyplot as plt\n",
    "%matplotlib inline\n",
    "import numpy as np\n",
    "import pandas as pd"
   ]
  },
  {
   "cell_type": "code",
   "execution_count": null,
   "id": "2542c75c",
   "metadata": {},
   "outputs": [],
   "source": [
    "# Create some data\n",
    "rng = np.random.RandomState(0)\n",
    "x = np.linspace(0, 10, 500)\n",
    "y = np.cumsum(rng.randn(500, 6), axis = 0)"
   ]
  },
  {
   "cell_type": "code",
   "execution_count": null,
   "id": "b71152e2",
   "metadata": {},
   "outputs": [],
   "source": [
    "plt.plot(x, y)\n",
    "plt.legend('ABCDEF', ncol = 2, loc = 'upper left')"
   ]
  },
  {
   "cell_type": "markdown",
   "id": "356076c2",
   "metadata": {},
   "source": [
    "### Exploring Seaborn Plots\n",
    "The main idea of Seaborn is that it provides high-level commands to create a variety of plot types useful for statistical data exploration, and even some statistical model fitting.\n",
    "\n",
    "Seaborn helps you explore and understand your data. Its plotting functions operate on dataframes and arrays containing whole datasets and internally perform the necessary semantic mapping and statistical aggregation to produce informative plots. Its dataset-oriented, declarative API lets you focus on what the different elements of your plots mean, rather than on the details of how to draw them.\n",
    "\n",
    "Let's take a look at a few of the datasets and plot types available in Seaborn. Note that all of the following could be done using raw Matplotlib commands (this is, in fact, what Seaborn does under the hood) but the Seaborn API is much more convenient\n",
    "\n",
    "### Histograms, KDE, and Densities\n",
    "Often in statistical data visualization, all you want is to plot histograms and joint distributions of variables. Below is a plot using Mathplotlib"
   ]
  },
  {
   "cell_type": "code",
   "execution_count": null,
   "id": "69c48502",
   "metadata": {},
   "outputs": [],
   "source": [
    "data = np.random.multivariate_normal([0, 0], [[5, 2], [2, 2]], size = 2000)\n",
    "data = pd.DataFrame(data, columns = ['x', 'y'])\n",
    "\n",
    "for col in 'xy':\n",
    "    plt.hist(data[col], density = True, alpha = 0.5)"
   ]
  },
  {
   "cell_type": "markdown",
   "id": "b93ec636",
   "metadata": {},
   "source": [
    "We can also draw histograms using seaborn's `displot` or `histplot`. `displot` is a figure-level interface for drawing distribution plots onto a `FacetGrid`. It provides access to several approaches for visualizing the univariate or bivariate distribution of data, including subsets of data defined by semantic mapping and faceting across multiple subplots. The `kind` parameter selects the approach to use"
   ]
  },
  {
   "cell_type": "code",
   "execution_count": null,
   "id": "4bb4ae34",
   "metadata": {},
   "outputs": [],
   "source": [
    "#sns.displot(data)\n",
    "sns.displot(data, bins = 20, alpha = 0.5)"
   ]
  },
  {
   "cell_type": "markdown",
   "id": "c6e9931a",
   "metadata": {},
   "source": [
    "Rather than a histogram, we can get a smooth estimate of the distribution using a kernel density estimation by setting `kind = kde`"
   ]
  },
  {
   "cell_type": "code",
   "execution_count": null,
   "id": "2124c84a",
   "metadata": {},
   "outputs": [],
   "source": [
    "sns.displot(data, kind = 'kde')"
   ]
  },
  {
   "cell_type": "markdown",
   "id": "fb55ea1f",
   "metadata": {},
   "source": [
    "Histograms and KDE can be combined by setting `kde = True`"
   ]
  },
  {
   "cell_type": "code",
   "execution_count": null,
   "id": "22540bd7",
   "metadata": {},
   "outputs": [],
   "source": [
    "sns.displot(data, kde = True)"
   ]
  },
  {
   "cell_type": "markdown",
   "id": "637ed67c",
   "metadata": {},
   "source": [
    "We can see the joint distribution and the marginal distributions together using `sns.jointplot`. For this plot, we'll set the style to a white background"
   ]
  },
  {
   "cell_type": "code",
   "execution_count": null,
   "id": "e7015710",
   "metadata": {},
   "outputs": [],
   "source": [
    "with sns.axes_style('white'):\n",
    "    sns.jointplot(data = data, x = 'x', y = 'y', kind = 'kde')"
   ]
  },
  {
   "cell_type": "markdown",
   "id": "682db3c3",
   "metadata": {},
   "source": [
    "There are other parameters that can be passed to `jointplot`. For example, we can use a hexagonally based histogram instead:"
   ]
  },
  {
   "cell_type": "code",
   "execution_count": null,
   "id": "bbe3131e",
   "metadata": {},
   "outputs": [],
   "source": [
    "with sns.axes_style('white'):\n",
    "    sns.jointplot(data = data, x = 'x', y = 'y', kind = 'hex')"
   ]
  },
  {
   "cell_type": "code",
   "execution_count": null,
   "id": "a3f1d7b3",
   "metadata": {
    "scrolled": true
   },
   "outputs": [],
   "source": [
    "with sns.axes_style('white'):\n",
    "    sns.jointplot(data = data, x = 'x', y = 'y', kind = 'reg')"
   ]
  },
  {
   "cell_type": "markdown",
   "id": "f801586f",
   "metadata": {},
   "source": [
    "### Pair Plots\n",
    "When you generalize joint plots to datasets of larger dimensions, you end up with pair plots. This is very useful for exploring correlations between multidimensional data, when you'd like to plot all pairs of values against each other.\n",
    "\n",
    "We'll demo this with the well-known Iris dataset, which lists measurements of petals and sepals of three iris species"
   ]
  },
  {
   "cell_type": "code",
   "execution_count": null,
   "id": "204b5e9c",
   "metadata": {},
   "outputs": [],
   "source": [
    "iris = sns.load_dataset(\"iris\")\n",
    "iris.head()"
   ]
  },
  {
   "cell_type": "markdown",
   "id": "83e66586",
   "metadata": {},
   "source": [
    "Visualizing the multidimensional relationships among the samples is as easy as calling `sns.pairplot`"
   ]
  },
  {
   "cell_type": "code",
   "execution_count": null,
   "id": "c0756a37",
   "metadata": {},
   "outputs": [],
   "source": [
    "sns.pairplot(iris, hue = 'species', height = 2.5)"
   ]
  },
  {
   "cell_type": "markdown",
   "id": "bd6deaff",
   "metadata": {},
   "source": [
    "### Faceted Histograms\n",
    "Sometimes the best way to view data is via histograms of subsets. Seaborn's `FacetGrid` makes this extremely simple. We'll take a look at some data that shows the amount that restaurant staff receive in tips based on various indicator data"
   ]
  },
  {
   "cell_type": "code",
   "execution_count": null,
   "id": "fe141470",
   "metadata": {},
   "outputs": [],
   "source": [
    "tips = sns.load_dataset('tips')\n",
    "tips.head()"
   ]
  },
  {
   "cell_type": "code",
   "execution_count": null,
   "id": "88673147",
   "metadata": {},
   "outputs": [],
   "source": [
    "tips['tip_pct'] = 100 * tips['tip'] / tips['total_bill']\n",
    "\n",
    "grid = sns.FacetGrid(tips, row = \"sex\", col = \"time\", margin_titles = True)\n",
    "grid.map(plt.hist, \"tip_pct\", bins = np.linspace(0, 40, 15))"
   ]
  },
  {
   "cell_type": "markdown",
   "id": "cc199310",
   "metadata": {},
   "source": [
    "Draw the same plot using `displot`"
   ]
  },
  {
   "cell_type": "code",
   "execution_count": null,
   "id": "c780c5f0",
   "metadata": {},
   "outputs": [],
   "source": [
    "sns.displot(tips, x = 'tip_pct', row = 'sex', col = 'time', bins = np.linspace(0, 40, 15))"
   ]
  },
  {
   "cell_type": "code",
   "execution_count": null,
   "id": "fa4ca5cd",
   "metadata": {
    "scrolled": false
   },
   "outputs": [],
   "source": [
    "grid = sns.FacetGrid(tips, row = \"sex\", col = \"time\", margin_titles = True)\n",
    "grid.map(plt.scatter, 'total_bill', 'tip')"
   ]
  },
  {
   "cell_type": "markdown",
   "id": "eaaab608",
   "metadata": {},
   "source": [
    "### Categorical Plots"
   ]
  },
  {
   "cell_type": "markdown",
   "id": "e83b4980",
   "metadata": {},
   "source": [
    "### Bar Plot\n",
    "`x` categorical column, `y` numerical column"
   ]
  },
  {
   "cell_type": "code",
   "execution_count": null,
   "id": "fb80ece0",
   "metadata": {},
   "outputs": [],
   "source": [
    "# default estimator is mean\n",
    "sns.barplot(x = 'sex', y = 'total_bill', data = tips)"
   ]
  },
  {
   "cell_type": "code",
   "execution_count": null,
   "id": "b85fbaad",
   "metadata": {},
   "outputs": [],
   "source": [
    "sns.barplot(x = 'sex', y = 'total_bill', data = tips, estimator = np.std)"
   ]
  },
  {
   "cell_type": "markdown",
   "id": "2a2486f0",
   "metadata": {},
   "source": [
    "It is important to keep in mind that a bar plot shows only the `mean` (or other estimator) value, but in many cases it may be more informative to show the distribution of values at each level of the categorical variables. In that case, other approaches such as a box or violin plot may be more appropriate."
   ]
  },
  {
   "cell_type": "markdown",
   "id": "e57a1f57",
   "metadata": {},
   "source": [
    "### Count Plot\n",
    "`countplot` shows the counts of observations in each categorical bin using bars. A count plot can be thought of as a histogram across a categorical, instead of quantitative, variable. The basic API and options are identical to those for `barplot()`, so you can compare counts across nested variables"
   ]
  },
  {
   "cell_type": "code",
   "execution_count": null,
   "id": "5beb817b",
   "metadata": {},
   "outputs": [],
   "source": [
    "# y is fixed to count the occurences\n",
    "sns.countplot(x = 'sex', data = tips)"
   ]
  },
  {
   "cell_type": "markdown",
   "id": "159d152f",
   "metadata": {},
   "source": [
    "### Box Plots\n",
    "`boxplot` draws a box plot to show distributions with respect to categories. A box plot (or box-and-whisker plot) shows the distribution of quantitative data in a way that facilitates comparisons between variables or across levels of a categorical variable. The box shows the quartiles of the dataset while the whiskers extend to show the rest of the distribution, except for points that are determined to be “outliers” using a method that is a function of the inter-quartile range"
   ]
  },
  {
   "cell_type": "code",
   "execution_count": null,
   "id": "3930cf39",
   "metadata": {},
   "outputs": [],
   "source": [
    "sns.boxplot(x = 'day', y = 'total_bill', data = tips)"
   ]
  },
  {
   "cell_type": "code",
   "execution_count": null,
   "id": "086de425",
   "metadata": {},
   "outputs": [],
   "source": [
    "sns.boxplot(x = 'day', y = 'total_bill', data = tips, hue = 'smoker')"
   ]
  },
  {
   "cell_type": "markdown",
   "id": "46017559",
   "metadata": {},
   "source": [
    "### Cat Plots\n",
    "Cat plots can be useful for this kind of visualization as well. `catplot` is a figure-level interface for drawing categorical plots onto a `FacetGrid`. It provides access to several axes-level functions that show **the relationship between a numerical and one or more categorical variables** using one of several visual representations. The `kind` parameter selects the underlying axes-level function to use. This is a general plot which can be used to plot many of the plots we have covered."
   ]
  },
  {
   "cell_type": "code",
   "execution_count": null,
   "id": "470fd19a",
   "metadata": {},
   "outputs": [],
   "source": [
    "with sns.axes_style(style = 'ticks'):\n",
    "    sns.catplot(x = \"day\", y = \"total_bill\", hue = \"sex\", data = tips, kind = \"box\")\n",
    "   "
   ]
  },
  {
   "cell_type": "markdown",
   "id": "06b7f2c9",
   "metadata": {},
   "source": [
    "### Violin Plots\n",
    "`violinplot` draws a combination of boxplot and kernel density estimate. A violin plot plays a similar role as a box and whisker plot. It shows the distribution of quantitative data across several levels of one (or more) categorical variables such that those distributions can be compared. Unlike a box plot, in which all of the plot components correspond to actual datapoints, the violin plot features a kernel density estimation of the underlying distribution"
   ]
  },
  {
   "cell_type": "code",
   "execution_count": null,
   "id": "5312af01",
   "metadata": {},
   "outputs": [],
   "source": [
    "sns.violinplot(x = 'day', y = 'total_bill', data = tips)"
   ]
  },
  {
   "cell_type": "code",
   "execution_count": null,
   "id": "ce38f802",
   "metadata": {},
   "outputs": [],
   "source": [
    "sns.violinplot(x = 'day', y = 'total_bill', data = tips, hue = 'sex', split = True)"
   ]
  },
  {
   "cell_type": "markdown",
   "id": "4b25ec18",
   "metadata": {},
   "source": [
    "### Joint Distributions\n",
    "Similar to the pairplot we saw earlier, we can use sns.jointplot to show the joint distribution between different datasets, along with the associated marginal distributions"
   ]
  },
  {
   "cell_type": "code",
   "execution_count": null,
   "id": "2fc86f5b",
   "metadata": {},
   "outputs": [],
   "source": [
    "with sns.axes_style('white'):\n",
    "    sns.jointplot(x = \"total_bill\", y = \"tip\", data = tips, kind = 'hex')"
   ]
  },
  {
   "cell_type": "markdown",
   "id": "7363969c",
   "metadata": {},
   "source": [
    "The joint plot can even do some automatic kernel density estimation and regression"
   ]
  },
  {
   "cell_type": "code",
   "execution_count": null,
   "id": "fb5c8e74",
   "metadata": {},
   "outputs": [],
   "source": [
    "sns.jointplot(x = \"total_bill\", y = \"tip\", data = tips, kind = 'reg')"
   ]
  },
  {
   "cell_type": "markdown",
   "id": "1aa47ec2",
   "metadata": {},
   "source": [
    "### Bar Plots\n",
    "Time series can be plotted using `sns.catplot`. In the following example, we'll use the Planets data that we first saw in the Pandas chapter"
   ]
  },
  {
   "cell_type": "code",
   "execution_count": null,
   "id": "f63ed25b",
   "metadata": {},
   "outputs": [],
   "source": [
    "planets = sns.load_dataset('planets')\n",
    "planets.head()"
   ]
  },
  {
   "cell_type": "code",
   "execution_count": null,
   "id": "99d1a923",
   "metadata": {},
   "outputs": [],
   "source": [
    "with sns.axes_style('white'):\n",
    "    g = sns.catplot(x = \"year\", data = planets, aspect = 2,\n",
    "                       kind = \"count\", color = 'steelblue')\n",
    "    #g.set_xticklabels(step = 5)"
   ]
  },
  {
   "cell_type": "markdown",
   "id": "6fa97b46",
   "metadata": {},
   "source": [
    "We can learn more by looking at the method of discovery of each of these planets"
   ]
  },
  {
   "cell_type": "code",
   "execution_count": null,
   "id": "379c5dde",
   "metadata": {},
   "outputs": [],
   "source": [
    "with sns.axes_style('white'):\n",
    "    g = sns.catplot(x = \"year\", data = planets, aspect = 4.0, kind = 'count',\n",
    "                       hue = 'method', order = range(2001, 2015))\n",
    "    g.set_ylabels('Number of Planets Discovered')"
   ]
  },
  {
   "cell_type": "markdown",
   "id": "11963125",
   "metadata": {},
   "source": [
    "### Matrix Plots\n",
    "\n",
    "`heatmap` plots rectangular data as a color-encoded matrix"
   ]
  },
  {
   "cell_type": "code",
   "execution_count": null,
   "id": "2868c4d4",
   "metadata": {},
   "outputs": [],
   "source": [
    "tips.head()"
   ]
  },
  {
   "cell_type": "code",
   "execution_count": null,
   "id": "6a22a045",
   "metadata": {},
   "outputs": [],
   "source": [
    "tc = tips.corr()"
   ]
  },
  {
   "cell_type": "code",
   "execution_count": null,
   "id": "62e95b20",
   "metadata": {},
   "outputs": [],
   "source": [
    "tc"
   ]
  },
  {
   "cell_type": "code",
   "execution_count": null,
   "id": "60ac5b71",
   "metadata": {},
   "outputs": [],
   "source": [
    "sns.heatmap(tc)"
   ]
  },
  {
   "cell_type": "code",
   "execution_count": null,
   "id": "2857b851",
   "metadata": {},
   "outputs": [],
   "source": [
    "sns.heatmap(tc, annot = True)"
   ]
  },
  {
   "cell_type": "code",
   "execution_count": null,
   "id": "38abb89c",
   "metadata": {},
   "outputs": [],
   "source": [
    "sns.heatmap(tc, annot = True, cmap = 'coolwarm')"
   ]
  },
  {
   "cell_type": "code",
   "execution_count": null,
   "id": "434c19f5",
   "metadata": {},
   "outputs": [],
   "source": [
    "flights = sns.load_dataset('flights')\n",
    "flights.head()"
   ]
  },
  {
   "cell_type": "code",
   "execution_count": null,
   "id": "aace33ea",
   "metadata": {},
   "outputs": [],
   "source": [
    "f = flights.pivot_table(index = 'month', columns = 'year', values = 'passengers')\n",
    "f"
   ]
  },
  {
   "cell_type": "code",
   "execution_count": null,
   "id": "27d3c0cf",
   "metadata": {},
   "outputs": [],
   "source": [
    "sns.heatmap(f, cmap = 'coolwarm')"
   ]
  },
  {
   "cell_type": "code",
   "execution_count": null,
   "id": "8616bf8f",
   "metadata": {},
   "outputs": [],
   "source": [
    "sns.heatmap(f, cmap = 'coolwarm', linecolor = 'white', linewidths = 1)"
   ]
  },
  {
   "cell_type": "markdown",
   "id": "a07a8373",
   "metadata": {},
   "source": [
    "### Cluster Map\n",
    "`clustermap` plots a matrix dataset as a hierarchically-clustered heatmap"
   ]
  },
  {
   "cell_type": "code",
   "execution_count": null,
   "id": "d345e9e0",
   "metadata": {},
   "outputs": [],
   "source": [
    "sns.clustermap(f, cmap = 'coolwarm')"
   ]
  },
  {
   "cell_type": "code",
   "execution_count": null,
   "id": "5533742b",
   "metadata": {},
   "outputs": [],
   "source": [
    "sns.clustermap(f, cmap = 'coolwarm', standard_scale = 1)"
   ]
  },
  {
   "cell_type": "markdown",
   "id": "6b989e72",
   "metadata": {},
   "source": [
    "### PairGrid\n",
    "Subplot grid for plotting pairwise relationships in a dataset. This object maps each variable in a dataset onto a column and row in a grid of multiple axes. Different axes-level plotting functions can be used to draw bivariate plots in the upper and lower triangles, and the the marginal distribution of each variable can be shown on the diagonal. Several different common plots can be generated in a single line using `pairplot()`. Use `PairGrid` when you need more flexibility"
   ]
  },
  {
   "cell_type": "code",
   "execution_count": null,
   "id": "a46f5366",
   "metadata": {},
   "outputs": [],
   "source": [
    "# vars: list of variable names. Variables within data to use, otherwise use every column with a numeric datatype\n",
    "g = sns.PairGrid(iris)\n",
    "g.map(plt.scatter)"
   ]
  },
  {
   "cell_type": "code",
   "execution_count": null,
   "id": "10daef81",
   "metadata": {},
   "outputs": [],
   "source": [
    "g = sns.PairGrid(iris)\n",
    "g.map_diag(sns.histplot)\n",
    "g.map_upper(plt.scatter)\n",
    "g.map_lower(sns.kdeplot)"
   ]
  },
  {
   "cell_type": "markdown",
   "id": "a1f28551",
   "metadata": {},
   "source": [
    "### lmplot\n",
    "`lmplot` plots data and regression model fits across a `FacetGrid`. This function combines `regplot()` and `FacetGrid`. It is intended as a convenient interface to fit regression models across conditional subsets of a dataset"
   ]
  },
  {
   "cell_type": "code",
   "execution_count": null,
   "id": "65ce5015",
   "metadata": {},
   "outputs": [],
   "source": [
    "sns.lmplot(x = 'total_bill', y = 'tip', data = tips)"
   ]
  },
  {
   "cell_type": "code",
   "execution_count": null,
   "id": "40e753db",
   "metadata": {},
   "outputs": [],
   "source": [
    "sns.lmplot(x = 'total_bill', y = 'tip', data = tips, hue = 'sex')"
   ]
  },
  {
   "cell_type": "code",
   "execution_count": null,
   "id": "c795a125",
   "metadata": {},
   "outputs": [],
   "source": [
    "sns.lmplot(x = 'total_bill', y = 'tip', data = tips, hue = 'sex', markers = ['o', '*'])"
   ]
  },
  {
   "cell_type": "code",
   "execution_count": null,
   "id": "9276052e",
   "metadata": {},
   "outputs": [],
   "source": [
    "sns.lmplot(x = 'total_bill', y = 'tip', data = tips, hue = 'sex', markers = ['o', '*'], scatter_kws = {'s': 120})"
   ]
  },
  {
   "cell_type": "code",
   "execution_count": null,
   "id": "45ca9688",
   "metadata": {},
   "outputs": [],
   "source": [
    "sns.lmplot(x = 'total_bill', y = 'tip', data = tips, row = 'time', col = 'sex')"
   ]
  },
  {
   "cell_type": "markdown",
   "id": "66786d66",
   "metadata": {},
   "source": [
    "### Example: Exploring Marathon Finishing Times\n",
    "Here we'll look at using Seaborn to help visualize and understand finishing results from a marathon. We will start by downloading the data from the Web, and loading it into Pandas"
   ]
  },
  {
   "cell_type": "code",
   "execution_count": null,
   "id": "433a6fce",
   "metadata": {},
   "outputs": [],
   "source": [
    "!curl -O https://raw.githubusercontent.com/jakevdp/marathon-data/master/marathon-data.csv"
   ]
  },
  {
   "cell_type": "code",
   "execution_count": null,
   "id": "d7e6edb3",
   "metadata": {},
   "outputs": [],
   "source": [
    "import pandas as pd\n",
    "data = pd.read_csv('marathon-data.csv')\n",
    "data.head()"
   ]
  },
  {
   "cell_type": "markdown",
   "id": "840f9e59",
   "metadata": {},
   "source": [
    "By default, Pandas loaded the `time` columns as Python strings (type `object`); we can see this by looking at the `dtypes` attribute of the `DataFrame`"
   ]
  },
  {
   "cell_type": "code",
   "execution_count": null,
   "id": "d8f2cbf1",
   "metadata": {},
   "outputs": [],
   "source": [
    "data.dtypes"
   ]
  },
  {
   "cell_type": "code",
   "execution_count": null,
   "id": "43003aee",
   "metadata": {},
   "outputs": [],
   "source": [
    "data.isnull().sum() # check any value missing in the dataset"
   ]
  },
  {
   "cell_type": "markdown",
   "id": "65a9ad1d",
   "metadata": {},
   "source": [
    "Let's fix this by providing a converter for the times"
   ]
  },
  {
   "cell_type": "code",
   "execution_count": null,
   "id": "3fb10493",
   "metadata": {},
   "outputs": [],
   "source": [
    "data = pd.read_csv('marathon-data.csv',\n",
    "                   converters = {'split':pd.to_timedelta, 'final':pd.to_timedelta})\n",
    "data.head()"
   ]
  },
  {
   "cell_type": "code",
   "execution_count": null,
   "id": "bb9dc191",
   "metadata": {},
   "outputs": [],
   "source": [
    "data.dtypes"
   ]
  },
  {
   "cell_type": "markdown",
   "id": "189c4647",
   "metadata": {},
   "source": [
    "That looks much better. For the purpose of our Seaborn plotting utilities, let's next add columns that give the times in seconds"
   ]
  },
  {
   "cell_type": "code",
   "execution_count": null,
   "id": "3eea8368",
   "metadata": {},
   "outputs": [],
   "source": [
    "data['split_sec'] = data['split'].map(lambda x : x.total_seconds())\n",
    "data['final_sec'] = data['final'].map(lambda x : x.total_seconds())\n",
    "data.head()"
   ]
  },
  {
   "cell_type": "markdown",
   "id": "ebb9b0ba",
   "metadata": {},
   "source": [
    "To get an idea of what the data looks like, we can plot a `jointplot` over the data"
   ]
  },
  {
   "cell_type": "code",
   "execution_count": null,
   "id": "502a7d41",
   "metadata": {},
   "outputs": [],
   "source": [
    "import numpy as np\n",
    "import seaborn as sns\n",
    "with sns.axes_style('white'):\n",
    "    g = sns.jointplot(x = \"split_sec\", y = \"final_sec\", data = data, kind = 'hex')\n",
    "    g.ax_joint.plot(np.linspace(4000, 16000),\n",
    "                    np.linspace(8000, 32000), ':k')"
   ]
  },
  {
   "cell_type": "markdown",
   "id": "70b3fee0",
   "metadata": {},
   "source": [
    "The dotted line shows where someone's time would lie if they ran the marathon at a perfectly steady pace. The fact that the distribution lies above this indicates (as you might expect) that most people slow down over the course of the marathon. If you have run competitively, you'll know that those who do the opposite—run faster during the second half of the race—are said to have \"negative-split\" the race.\n",
    "\n",
    "Let's create another column in the data, the split fraction, which measures the degree to which each runner negative-splits or positive-splits the race"
   ]
  },
  {
   "cell_type": "code",
   "execution_count": null,
   "id": "75fcb2e2",
   "metadata": {},
   "outputs": [],
   "source": [
    "data['split_frac'] = 1 - 2 * data['split_sec'] / data['final_sec']\n",
    "data.head()"
   ]
  },
  {
   "cell_type": "markdown",
   "id": "3fc59ded",
   "metadata": {},
   "source": [
    "Where this split difference is less than zero, the person negative-split the race by that fraction. Let's do a distribution plot of this split fraction"
   ]
  },
  {
   "cell_type": "code",
   "execution_count": null,
   "id": "cb42dea4",
   "metadata": {},
   "outputs": [],
   "source": [
    "sns.distplot(data['split_frac'], kde = False)\n",
    "plt.axvline(0, color = \"k\", linestyle = \"--\")"
   ]
  },
  {
   "cell_type": "code",
   "execution_count": null,
   "id": "b82bb6b3",
   "metadata": {},
   "outputs": [],
   "source": [
    "sum(data.split_frac < 0)"
   ]
  },
  {
   "cell_type": "markdown",
   "id": "56ff4e0e",
   "metadata": {},
   "source": [
    "Out of nearly 40,000 participants, there were only 250 people who negative-split their marathon. Let's see whether there is any correlation between this split fraction and other variables. We'll do this using a `pairgrid`, which draws plots of all these correlations"
   ]
  },
  {
   "cell_type": "code",
   "execution_count": null,
   "id": "2381dac2",
   "metadata": {},
   "outputs": [],
   "source": [
    "g = sns.PairGrid(data, vars = ['age', 'split_sec', 'final_sec', 'split_frac'],\n",
    "                 hue = 'gender', palette = 'RdBu_r')\n",
    "g.map(plt.scatter, alpha = 0.8)\n",
    "g.add_legend()"
   ]
  },
  {
   "cell_type": "markdown",
   "id": "7089396c",
   "metadata": {},
   "source": [
    "It looks like the split fraction does not correlate particularly with age, but does correlate with the final time: faster runners tend to have closer to even splits on their marathon time. The difference between men and women here is interesting. Let's look at the histogram of split fractions for these two groups"
   ]
  },
  {
   "cell_type": "code",
   "execution_count": null,
   "id": "0035468c",
   "metadata": {},
   "outputs": [],
   "source": [
    "sns.kdeplot(data.split_frac[data.gender=='M'], label = 'men', shade = True)\n",
    "sns.kdeplot(data.split_frac[data.gender=='W'], label = 'women', shade = True)\n",
    "plt.xlabel('split_frac')"
   ]
  },
  {
   "cell_type": "markdown",
   "id": "021e7db0",
   "metadata": {},
   "source": [
    "The interesting thing here is that there are many more men than women who are running close to an even split! This almost looks like some kind of bimodal distribution among the men and women. Let's see if we can suss-out what's going on by looking at the distributions as a function of age. A nice way to compare distributions is to use a violin plot"
   ]
  },
  {
   "cell_type": "code",
   "execution_count": null,
   "id": "0521b673",
   "metadata": {},
   "outputs": [],
   "source": [
    "sns.violinplot(x = \"gender\", y = \"split_frac\", data = data,\n",
    "               palette=[\"lightblue\", \"lightpink\"])"
   ]
  },
  {
   "cell_type": "markdown",
   "id": "7791cbac",
   "metadata": {},
   "source": [
    "This is yet another way to compare the distributions between men and women. Let's look a little deeper, and compare these violin plots as a function of age. We'll start by creating a new column in the array that specifies the decade of age that each person is in"
   ]
  },
  {
   "cell_type": "code",
   "execution_count": null,
   "id": "856e4e10",
   "metadata": {},
   "outputs": [],
   "source": [
    "data['age_dec'] = data.age.map(lambda age: 10 * (age // 10))\n",
    "data.head()"
   ]
  },
  {
   "cell_type": "code",
   "execution_count": null,
   "id": "159ea9bc",
   "metadata": {},
   "outputs": [],
   "source": [
    "men = (data.gender == 'M')\n",
    "women = (data.gender == 'W')\n",
    "\n",
    "with sns.axes_style(style = None):\n",
    "    sns.violinplot(x = \"age_dec\", y = \"split_frac\", hue = \"gender\", data = data,\n",
    "                   split = True, inner = \"quartile\",\n",
    "                   palette = [\"lightblue\", \"lightpink\"])"
   ]
  },
  {
   "cell_type": "markdown",
   "id": "2eed9544",
   "metadata": {},
   "source": [
    "Looking at this, we can see where the distributions of men and women differ: the split distributions of men in their 20s to 50s show a pronounced over-density toward lower splits when compared to women of the same age (or of any age, for that matter).\n",
    "\n",
    "Also surprisingly, the 80-year-old women seem to outperform everyone in terms of their split time. This is probably due to the fact that we're estimating the distribution from small numbers, as there are only a handful of runners in that range"
   ]
  },
  {
   "cell_type": "code",
   "execution_count": null,
   "id": "2c0e5a5c",
   "metadata": {},
   "outputs": [],
   "source": [
    "(data.age > 80).sum()"
   ]
  },
  {
   "cell_type": "markdown",
   "id": "bc815cd0",
   "metadata": {},
   "source": [
    "Back to the men with negative splits: who are these runners? Does this split fraction correlate with finishing quickly? We can plot this very easily. We'll use `lmplot`, which will automatically fit a linear regression to the data. ` lmplot` plots data and regression model fits across a FacetGrid. It combines `regplot()` and `FacetGrid`. It is intended as a convenient interface to fit regression models across conditional subsets of a dataset "
   ]
  },
  {
   "cell_type": "code",
   "execution_count": null,
   "id": "72ff87f0",
   "metadata": {},
   "outputs": [],
   "source": [
    "g = sns.lmplot(x = 'final_sec', y = 'split_frac', col = 'gender', data = data,\n",
    "               markers = \".\", scatter_kws = dict(color = 'c'))\n",
    "g.map(plt.axhline, y = 0.1, color = \"k\", ls = \":\");"
   ]
  },
  {
   "cell_type": "markdown",
   "id": "5b8dc33d",
   "metadata": {},
   "source": [
    "Apparently the people with fast splits are the elite runners who are finishing within ~15,000 seconds, or about 4 hours. People slower than that are much less likely to have a fast second split"
   ]
  },
  {
   "cell_type": "code",
   "execution_count": null,
   "id": "2dc79a1a",
   "metadata": {},
   "outputs": [],
   "source": [
    "tips = sns.load_dataset('tips')\n",
    "tips.head()"
   ]
  },
  {
   "cell_type": "code",
   "execution_count": null,
   "id": "38b12341",
   "metadata": {},
   "outputs": [],
   "source": [
    "sns.histplot(tips['total_bill'])"
   ]
  }
 ],
 "metadata": {
  "kernelspec": {
   "display_name": "Python 3",
   "language": "python",
   "name": "python3"
  },
  "language_info": {
   "codemirror_mode": {
    "name": "ipython",
    "version": 3
   },
   "file_extension": ".py",
   "mimetype": "text/x-python",
   "name": "python",
   "nbconvert_exporter": "python",
   "pygments_lexer": "ipython3",
   "version": "3.8.8"
  }
 },
 "nbformat": 4,
 "nbformat_minor": 5
}
